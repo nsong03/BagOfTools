{
 "cells": [
  {
   "cell_type": "markdown",
   "id": "8f2b70ab",
   "metadata": {},
   "source": [
    "# Zeeman Effect Tests"
   ]
  },
  {
   "cell_type": "code",
   "execution_count": null,
   "id": "0a21ffe0",
   "metadata": {},
   "outputs": [],
   "source": [
    "import unittest\n",
    "import numpy as np\n",
    "from atomic_tools import zeeman\n",
    "import matplotlib.pyplot as plt"
   ]
  },
  {
   "cell_type": "code",
   "execution_count": null,
   "id": "876c13ec",
   "metadata": {},
   "outputs": [],
   "source": [
    "class TestZeeman(unittest.TestCase):\n",
    "    def test_rb87_ground_gf(self):\n",
    "        g_f_F1 = zeeman.rb87_ground_gf(1)\n",
    "        g_f_F2 = zeeman.rb87_ground_gf(2)\n",
    "        self.assertAlmostEqual(g_f_F1, -0.5018, places=4)\n",
    "        self.assertAlmostEqual(g_f_F2, 0.4998, places=4)\n",
    "\n",
    "    def test_energy_frequency_consistency(self):\n",
    "        g_f = zeeman.rb87_ground_gf(2)\n",
    "        B = np.linspace(0, 1e-3, 5)\n",
    "        m_f = 1\n",
    "        energy = zeeman.zeeman_shift(B, m_f, g_f)\n",
    "        freq = zeeman.zeeman_frequency(B, m_f, g_f)\n",
    "        np.testing.assert_allclose(energy / zeeman.HPLANCK, freq)\n"
   ]
  },
  {
   "cell_type": "code",
   "execution_count": null,
   "id": "d49db4d9",
   "metadata": {},
   "outputs": [],
   "source": [
    "unittest.TextTestRunner().run(unittest.defaultTestLoader.loadTestsFromTestCase(TestZeeman))"
   ]
  },
  {
   "cell_type": "code",
   "execution_count": null,
   "id": "c023ed41",
   "metadata": {},
   "outputs": [],
   "source": [
    "B = np.linspace(0, 1e-3, 100)\n",
    "g_f = zeeman.rb87_ground_gf(2)\n",
    "frequencies = zeeman.zeeman_frequency(B, 1, g_f)\n",
    "plt.figure()\n",
    "plt.plot(B*1e4, frequencies)\n",
    "plt.xlabel('Magnetic field (gauss)')\n",
    "plt.ylabel('Frequency shift (Hz)')\n",
    "plt.title('Zeeman shift for $^{87}$Rb F=2, m_F=1')\n",
    "plt.show()"
   ]
  }
 ],
 "metadata": {},
 "nbformat": 4,
 "nbformat_minor": 5
}
