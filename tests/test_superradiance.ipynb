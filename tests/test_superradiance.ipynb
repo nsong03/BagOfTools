{
 "cells": [
  {
   "cell_type": "markdown",
   "id": "8677d183",
   "metadata": {},
   "source": [
    "# Superradiance Simulation for 10 Atoms"
   ]
  },
  {
   "cell_type": "code",
   "execution_count": null,
   "id": "7b12d242",
   "metadata": {},
   "outputs": [],
   "source": [
    "import numpy as np\n",
    "import matplotlib.pyplot as plt\n",
    "import unittest"
   ]
  },
  {
   "cell_type": "code",
   "execution_count": null,
   "id": "c5017f8f",
   "metadata": {},
   "outputs": [],
   "source": [
    "def superradiance_intensity(N, t, gamma=1.0):\n",
    "    \"\"\"Return collective emission intensity for N atoms.\"\"\"\n",
    "    t = np.asarray(t)\n",
    "    return gamma * N * (N + 1) * np.exp(-gamma * N * t)\n"
   ]
  },
  {
   "cell_type": "code",
   "execution_count": null,
   "id": "b69dbff2",
   "metadata": {},
   "outputs": [],
   "source": [
    "class TestSuperradiance(unittest.TestCase):\n",
    "    def test_initial_intensity(self):\n",
    "        N = 10\n",
    "        I0 = superradiance_intensity(N, 0.0)\n",
    "        self.assertAlmostEqual(I0, N*(N+1))\n",
    "\n",
    "    def test_decay(self):\n",
    "        N = 10\n",
    "        gamma = 1.0\n",
    "        t = 5.0/(gamma*N)\n",
    "        I_end = superradiance_intensity(N, t, gamma)\n",
    "        self.assertLess(I_end, 1e-2 * superradiance_intensity(N, 0.0, gamma))\n"
   ]
  },
  {
   "cell_type": "code",
   "execution_count": null,
   "id": "128f486a",
   "metadata": {},
   "outputs": [],
   "source": [
    "unittest.TextTestRunner().run(unittest.defaultTestLoader.loadTestsFromTestCase(TestSuperradiance))"
   ]
  },
  {
   "cell_type": "code",
   "execution_count": null,
   "id": "d45cbae8",
   "metadata": {},
   "outputs": [],
   "source": [
    "gamma = 1.0\n",
    "N = 10\n",
    "t = np.linspace(0, 5.0/(gamma*N), 200)\n",
    "I = superradiance_intensity(N, t, gamma)\n",
    "plt.figure()\n",
    "plt.plot(t, I)\n",
    "plt.xlabel('Time (1/gamma)')\n",
    "plt.ylabel('Intensity (arb. units)')\n",
    "plt.title('Superradiant decay for N=10 atoms')\n",
    "plt.show()"
   ]
  }
 ],
 "metadata": {},
 "nbformat": 4,
 "nbformat_minor": 5
}
